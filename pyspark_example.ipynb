{
 "cells": [
  {
   "cell_type": "code",
   "execution_count": 5,
   "id": "528e1a27-59aa-4a46-bd45-3b842408dd47",
   "metadata": {},
   "outputs": [
    {
     "name": "stdout",
     "output_type": "stream",
     "text": [
      "+-------+---+-------------+\n",
      "|   Name|Age|         City|\n",
      "+-------+---+-------------+\n",
      "|  Alice| 29|     New York|\n",
      "|    Bob| 34|San Francisco|\n",
      "|Charlie| 23|       Boston|\n",
      "|  Diana| 30|      Seattle|\n",
      "|  Ethan| 45|       Austin|\n",
      "+-------+---+-------------+\n",
      "\n"
     ]
    }
   ],
   "source": [
    "from pyspark.sql import SparkSession\n",
    "from pyspark.sql.types import StructType, StructField, StringType, IntegerType\n",
    "\n",
    "# Create a Spark session\n",
    "spark = SparkSession.builder \\\n",
    "    .appName(\"Sample DataFrame\") \\\n",
    "    .getOrCreate()\n",
    "\n",
    "# Define a schema for the DataFrame\n",
    "schema = StructType([\n",
    "    StructField(\"Name\", StringType(), True),\n",
    "    StructField(\"Age\", IntegerType(), True),\n",
    "    StructField(\"City\", StringType(), True)\n",
    "])\n",
    "\n",
    "# Create sample data\n",
    "data = [\n",
    "    (\"Alice\", 29, \"New York\"),\n",
    "    (\"Bob\", 34, \"San Francisco\"),\n",
    "    (\"Charlie\", 23, \"Boston\"),\n",
    "    (\"Diana\", 30, \"Seattle\"),\n",
    "    (\"Ethan\", 45, \"Austin\")\n",
    "]\n",
    "\n",
    "# Create the DataFrame\n",
    "df = spark.createDataFrame(data, schema)\n",
    "\n",
    "# Show the DataFrame\n",
    "df.show()\n"
   ]
  }
 ],
 "metadata": {
  "kernelspec": {
   "display_name": "Python (.pyspark-env)",
   "language": "python",
   "name": ".pyspark-env"
  },
  "language_info": {
   "codemirror_mode": {
    "name": "ipython",
    "version": 3
   },
   "file_extension": ".py",
   "mimetype": "text/x-python",
   "name": "python",
   "nbconvert_exporter": "python",
   "pygments_lexer": "ipython3",
   "version": "3.12.3"
  }
 },
 "nbformat": 4,
 "nbformat_minor": 5
}
