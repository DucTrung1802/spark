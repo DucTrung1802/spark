{
 "cells": [
  {
   "cell_type": "code",
   "execution_count": 1,
   "metadata": {},
   "outputs": [
    {
     "name": "stdout",
     "output_type": "stream",
     "text": [
      "Schema of the dataset:\n",
      "root\n",
      " |-- age: integer (nullable = true)\n",
      " |-- job: string (nullable = true)\n",
      " |-- marital: string (nullable = true)\n",
      " |-- education: string (nullable = true)\n",
      " |-- default: string (nullable = true)\n",
      " |-- housing: string (nullable = true)\n",
      " |-- loan: string (nullable = true)\n",
      " |-- contact: string (nullable = true)\n",
      " |-- month: string (nullable = true)\n",
      " |-- dayOfWeek: string (nullable = true)\n",
      " |-- duration: integer (nullable = true)\n",
      " |-- campaign: integer (nullable = true)\n",
      " |-- pdays: integer (nullable = true)\n",
      " |-- previous: integer (nullable = true)\n",
      " |-- poutcome: string (nullable = true)\n",
      " |-- empVarRate: double (nullable = true)\n",
      " |-- consPriceIdx: double (nullable = true)\n",
      " |-- consConfIdx: double (nullable = true)\n",
      " |-- euribor3m: double (nullable = true)\n",
      " |-- nrEmployed: double (nullable = true)\n",
      " |-- y: string (nullable = true)\n",
      "\n"
     ]
    }
   ],
   "source": [
    "from pyspark.sql import SparkSession\n",
    "\n",
    "spark = SparkSession.builder.getOrCreate()\n",
    "\n",
    "# Load the CSV file into a Spark DataFrame\n",
    "file_path = \"full.csv\"\n",
    "df = spark.read.csv(file_path, header=True, inferSchema=True, sep=';')\n",
    "\n",
    "# Display the schema\n",
    "print(\"Schema of the dataset:\")\n",
    "df.printSchema()"
   ]
  },
  {
   "cell_type": "code",
   "execution_count": 2,
   "metadata": {},
   "outputs": [
    {
     "name": "stdout",
     "output_type": "stream",
     "text": [
      "+---+-----------+--------+-------------------+-------+-------+----+---------+-----+---------+--------+--------+-----+--------+-----------+----------+------------+-----------+---------+----------+---+\n",
      "|age|        job| marital|          education|default|housing|loan|  contact|month|dayOfWeek|duration|campaign|pdays|previous|   poutcome|empVarRate|consPriceIdx|consConfIdx|euribor3m|nrEmployed|  y|\n",
      "+---+-----------+--------+-------------------+-------+-------+----+---------+-----+---------+--------+--------+-----+--------+-----------+----------+------------+-----------+---------+----------+---+\n",
      "| 56|  housemaid| married|           basic.4y|     no|     no|  no|telephone|  may|      mon|     261|       1|  999|       0|nonexistent|       1.1|      93.994|      -36.4|    4.857|    5191.0| no|\n",
      "| 57|   services| married|        high.school|unknown|     no|  no|telephone|  may|      mon|     149|       1|  999|       0|nonexistent|       1.1|      93.994|      -36.4|    4.857|    5191.0| no|\n",
      "| 37|   services| married|        high.school|     no|    yes|  no|telephone|  may|      mon|     226|       1|  999|       0|nonexistent|       1.1|      93.994|      -36.4|    4.857|    5191.0| no|\n",
      "| 40|     admin.| married|           basic.6y|     no|     no|  no|telephone|  may|      mon|     151|       1|  999|       0|nonexistent|       1.1|      93.994|      -36.4|    4.857|    5191.0| no|\n",
      "| 56|   services| married|        high.school|     no|     no| yes|telephone|  may|      mon|     307|       1|  999|       0|nonexistent|       1.1|      93.994|      -36.4|    4.857|    5191.0| no|\n",
      "| 45|   services| married|           basic.9y|unknown|     no|  no|telephone|  may|      mon|     198|       1|  999|       0|nonexistent|       1.1|      93.994|      -36.4|    4.857|    5191.0| no|\n",
      "| 59|     admin.| married|professional.course|     no|     no|  no|telephone|  may|      mon|     139|       1|  999|       0|nonexistent|       1.1|      93.994|      -36.4|    4.857|    5191.0| no|\n",
      "| 41|blue-collar| married|            unknown|unknown|     no|  no|telephone|  may|      mon|     217|       1|  999|       0|nonexistent|       1.1|      93.994|      -36.4|    4.857|    5191.0| no|\n",
      "| 24| technician|  single|professional.course|     no|    yes|  no|telephone|  may|      mon|     380|       1|  999|       0|nonexistent|       1.1|      93.994|      -36.4|    4.857|    5191.0| no|\n",
      "| 25|   services|  single|        high.school|     no|    yes|  no|telephone|  may|      mon|      50|       1|  999|       0|nonexistent|       1.1|      93.994|      -36.4|    4.857|    5191.0| no|\n",
      "| 41|blue-collar| married|            unknown|unknown|     no|  no|telephone|  may|      mon|      55|       1|  999|       0|nonexistent|       1.1|      93.994|      -36.4|    4.857|    5191.0| no|\n",
      "| 25|   services|  single|        high.school|     no|    yes|  no|telephone|  may|      mon|     222|       1|  999|       0|nonexistent|       1.1|      93.994|      -36.4|    4.857|    5191.0| no|\n",
      "| 29|blue-collar|  single|        high.school|     no|     no| yes|telephone|  may|      mon|     137|       1|  999|       0|nonexistent|       1.1|      93.994|      -36.4|    4.857|    5191.0| no|\n",
      "| 57|  housemaid|divorced|           basic.4y|     no|    yes|  no|telephone|  may|      mon|     293|       1|  999|       0|nonexistent|       1.1|      93.994|      -36.4|    4.857|    5191.0| no|\n",
      "| 35|blue-collar| married|           basic.6y|     no|    yes|  no|telephone|  may|      mon|     146|       1|  999|       0|nonexistent|       1.1|      93.994|      -36.4|    4.857|    5191.0| no|\n",
      "| 54|    retired| married|           basic.9y|unknown|    yes| yes|telephone|  may|      mon|     174|       1|  999|       0|nonexistent|       1.1|      93.994|      -36.4|    4.857|    5191.0| no|\n",
      "| 35|blue-collar| married|           basic.6y|     no|    yes|  no|telephone|  may|      mon|     312|       1|  999|       0|nonexistent|       1.1|      93.994|      -36.4|    4.857|    5191.0| no|\n",
      "| 46|blue-collar| married|           basic.6y|unknown|    yes| yes|telephone|  may|      mon|     440|       1|  999|       0|nonexistent|       1.1|      93.994|      -36.4|    4.857|    5191.0| no|\n",
      "| 50|blue-collar| married|           basic.9y|     no|    yes| yes|telephone|  may|      mon|     353|       1|  999|       0|nonexistent|       1.1|      93.994|      -36.4|    4.857|    5191.0| no|\n",
      "| 39| management|  single|           basic.9y|unknown|     no|  no|telephone|  may|      mon|     195|       1|  999|       0|nonexistent|       1.1|      93.994|      -36.4|    4.857|    5191.0| no|\n",
      "+---+-----------+--------+-------------------+-------+-------+----+---------+-----+---------+--------+--------+-----+--------+-----------+----------+------------+-----------+---------+----------+---+\n",
      "only showing top 20 rows\n",
      "\n"
     ]
    }
   ],
   "source": [
    "df.show()"
   ]
  }
 ],
 "metadata": {
  "kernelspec": {
   "display_name": "Python 3",
   "language": "python",
   "name": "python3"
  },
  "language_info": {
   "codemirror_mode": {
    "name": "ipython",
    "version": 3
   },
   "file_extension": ".py",
   "mimetype": "text/x-python",
   "name": "python",
   "nbconvert_exporter": "python",
   "pygments_lexer": "ipython3",
   "version": "3.12.7"
  }
 },
 "nbformat": 4,
 "nbformat_minor": 2
}
